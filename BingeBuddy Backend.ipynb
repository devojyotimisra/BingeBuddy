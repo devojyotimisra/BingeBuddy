{
  "cells": [
    {
      "cell_type": "code",
      "execution_count": null,
      "metadata": {
        "id": "MOXn7CGdIGBU"
      },
      "outputs": [],
      "source": [
        "%%writefile recommendation.py\n",
        "\n",
        "import numpy as np\n",
        "import pandas as pd\n",
        "import difflib\n",
        "from sklearn.feature_extraction.text import TfidfVectorizer\n",
        "from sklearn.metrics.pairwise import cosine_similarity\n",
        "\n",
        "def recommend(movie_name):\n",
        "    movies_data = pd.read_csv('movies.csv')\n",
        "    selected_features = ['genres','keywords','tagline','cast','director']\n",
        "    for feature in selected_features:\n",
        "      movies_data[feature] = movies_data[feature].fillna('')\n",
        "    combined_features = movies_data['genres']+' '+movies_data['keywords']+' '+movies_data['tagline']+' '+movies_data['cast']+' '+movies_data['director']\n",
        "    vectorizer = TfidfVectorizer()\n",
        "    feature_vectors = vectorizer.fit_transform(combined_features)\n",
        "    similarity = cosine_similarity(feature_vectors)\n",
        "\n",
        "    list_of_all_titles = movies_data['title'].tolist()\n",
        "    find_close_match = difflib.get_close_matches(movie_name, list_of_all_titles)\n",
        "    close_match = find_close_match[0]\n",
        "    index_of_the_movie = movies_data[movies_data.title == close_match]['index'].values[0]\n",
        "    similarity_score = list(enumerate(similarity[index_of_the_movie]))\n",
        "    sorted_similar_movies = sorted(similarity_score, key = lambda x:x[1], reverse = True)\n",
        "\n",
        "    ans=\"\"\n",
        "    i = 1\n",
        "    for movie in sorted_similar_movies:\n",
        "      index = movie[0]\n",
        "      title_from_index = movies_data[movies_data.index==index]['title'].values[0]\n",
        "      if (i<=12):\n",
        "        ans=ans+(str(i)+'. '+title_from_index+'\\n')\n",
        "        i+=1\n",
        "\n",
        "    return ans.strip('\\n')"
      ]
    },
    {
      "cell_type": "code",
      "execution_count": null,
      "metadata": {
        "collapsed": true,
        "id": "EXVGwsNRhp0z"
      },
      "outputs": [],
      "source": [
        "!pip install pyngrok flask"
      ]
    },
    {
      "cell_type": "code",
      "execution_count": null,
      "metadata": {
        "id": "Zb7wegUs8huE"
      },
      "outputs": [],
      "source": [
        "from pyngrok import ngrok\n",
        "from flask import Flask, request\n",
        "from recommendation import recommend"
      ]
    },
    {
      "cell_type": "code",
      "execution_count": null,
      "metadata": {
        "id": "3eyrvuiBvPma"
      },
      "outputs": [],
      "source": [
        "port_no = 5000\n",
        "app = Flask(__name__)\n",
        "ngrok.set_auth_token(\"ngrok_token\")\n",
        "public_url = \"ngrok_url\"\n",
        "\n",
        "@app.route(\"/generate\", methods=[\"POST\"])\n",
        "def generate():\n",
        "  movie_name = request.json[\"m_name\"]\n",
        "  output = recommend(movie_name)\n",
        "\n",
        "  return {\"output\": output}, 201\n",
        "\n",
        "ngrok_tunnel = ngrok.connect(port_no, bind_tls=True, hostname=\"ngrok_url\")\n",
        "if __name__ == '__main__':\n",
        "  print(f\"Ngrok tunnel: {ngrok_tunnel.public_url}\")\n",
        "  app.run(host=\"0.0.0.0\", debug=True, port=port_no, use_reloader=False)"
      ]
    }
  ],
  "metadata": {
    "colab": {
      "provenance": []
    },
    "kernelspec": {
      "display_name": "Python 3",
      "name": "python3"
    },
    "language_info": {
      "name": "python"
    }
  },
  "nbformat": 4,
  "nbformat_minor": 0
}
