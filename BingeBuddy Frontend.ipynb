{
  "cells": [
    {
      "cell_type": "code",
      "execution_count": null,
      "metadata": {
        "id": "MKeYDxOsaLxT"
      },
      "outputs": [],
      "source": [
        "%%writefile frontend.py\n",
        "\n",
        "import streamlit as st\n",
        "import pandas as pd\n",
        "import requests\n",
        "\n",
        "st.set_page_config(page_title=\"BingeBuddy\", page_icon=\"🎥\")\n",
        "\n",
        "hide_streamlit_style = \"\"\"\n",
        "    <style>\n",
        "    header {visibility: hidden;}\n",
        "    </style>\n",
        "\"\"\"\n",
        "st.markdown(hide_streamlit_style, unsafe_allow_html=True)\n",
        "\n",
        "st.title(\"Binge Buddy\")\n",
        "st.caption(\"_:blue[Discover your next favorite movie with AI-powered recommendations tailored just for you!]_\")\n",
        "\n",
        "text = st.text_input(\"Enter Movie Name: \", placeholder=\"Enter a movie name...\")\n",
        "n = st.number_input(\"Enter number of movies to be recommended\",1,1000,placeholder=\"No of movies?\")\n",
        "\n",
        "state = st.button(\"Process\")\n",
        "\n",
        "if text is not None and n is not None and state:\n",
        "    response=[]\n",
        "    with st.spinner():\n",
        "        response = requests.post(\"http://ngrok_domain_url/generate\", json={\"m_name\": text, \"num\": n})\n",
        "\n",
        "    if response.status_code == 201:\n",
        "        data = response.json()\n",
        "\n",
        "        ans = data[\"output\"]\n",
        "\n",
        "        st.subheader(\"Recommended Movie's: \")\n",
        "\n",
        "        st.text(ans)\n",
        "    else:\n",
        "        st.warning(f\"Error\")"
      ]
    },
    {
      "cell_type": "code",
      "execution_count": null,
      "metadata": {
        "collapsed": true,
        "id": "EXVGwsNRhp0z"
      },
      "outputs": [],
      "source": [
        "!pip install pyngrok streamlit"
      ]
    },
    {
      "cell_type": "code",
      "execution_count": null,
      "metadata": {
        "id": "Zb7wegUs8huE"
      },
      "outputs": [],
      "source": [
        "from pyngrok import ngrok"
      ]
    },
    {
      "cell_type": "code",
      "execution_count": null,
      "metadata": {
        "id": "cbsGv0aJdg3Y"
      },
      "outputs": [],
      "source": [
        "!streamlit run frontend.py &>/dev/null &"
      ]
    },
    {
      "cell_type": "code",
      "execution_count": null,
      "metadata": {
        "id": "pLxwhdzadFPp"
      },
      "outputs": [],
      "source": [
        "port_no = 8501\n",
        "ngrok.set_auth_token(\"ngrok_auth_token\")\n",
        "public_url = \"ngrok_domain_url\"\n",
        "ngrok_tunnel = ngrok.connect(port_no, bind_tls=True, hostname=\"ngrok_domain_url\")\n",
        "print(f\"Ngrok tunnel: {ngrok_tunnel.public_url}\")"
      ]
    }
  ],
  "metadata": {
    "colab": {
      "provenance": []
    },
    "kernelspec": {
      "display_name": "Python 3",
      "name": "python3"
    },
    "language_info": {
      "name": "python"
    }
  },
  "nbformat": 4,
  "nbformat_minor": 0
}
